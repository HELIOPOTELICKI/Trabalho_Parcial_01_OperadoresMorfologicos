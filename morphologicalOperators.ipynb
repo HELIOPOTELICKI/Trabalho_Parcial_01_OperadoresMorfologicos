{
 "cells": [
  {
   "cell_type": "code",
   "execution_count": 1,
   "metadata": {},
   "outputs": [],
   "source": [
    "import numpy as np\n",
    "import cv2"
   ]
  },
  {
   "cell_type": "code",
   "execution_count": 2,
   "metadata": {},
   "outputs": [],
   "source": [
    "img = cv2.imread('image/mama.png')\n",
    "kernel = np.ones((3,3),np.uint8)"
   ]
  },
  {
   "cell_type": "code",
   "execution_count": 3,
   "metadata": {},
   "outputs": [],
   "source": [
    "top_hat_opening = cv2.morphologyEx(img, cv2.MORPH_TOPHAT, kernel)\n",
    "top_hat_closing = cv2.morphologyEx(img, cv2.MORPH_BLACKHAT, kernel)\n",
    "contrast = (img + top_hat_opening) - top_hat_closing"
   ]
  },
  {
   "cell_type": "code",
   "execution_count": 4,
   "metadata": {},
   "outputs": [
    {
     "data": {
      "text/plain": [
       "-1"
      ]
     },
     "execution_count": 4,
     "metadata": {},
     "output_type": "execute_result"
    }
   ],
   "source": [
    "cv2.imshow(\"Contraste\", contrast)\n",
    "cv2.imshow(\"Original\",img)\n",
    "cv2.waitKey(0)"
   ]
  }
 ],
 "metadata": {
  "interpreter": {
   "hash": "b886f89131c8a4b41a5d576504142b423b6bbceb7e9f5b8ab206d29dfe67ecce"
  },
  "kernelspec": {
   "display_name": "Python 3.8.12 ('labeling')",
   "language": "python",
   "name": "python3"
  },
  "language_info": {
   "codemirror_mode": {
    "name": "ipython",
    "version": 3
   },
   "file_extension": ".py",
   "mimetype": "text/x-python",
   "name": "python",
   "nbconvert_exporter": "python",
   "pygments_lexer": "ipython3",
   "version": "3.8.12"
  },
  "orig_nbformat": 4
 },
 "nbformat": 4,
 "nbformat_minor": 2
}
