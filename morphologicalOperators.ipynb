{
 "cells": [
  {
   "cell_type": "code",
   "execution_count": null,
   "metadata": {},
   "outputs": [],
   "source": [
    "import numpy as np\n",
    "import urllib\n",
    "import cv2"
   ]
  },
  {
   "cell_type": "code",
   "execution_count": null,
   "metadata": {},
   "outputs": [],
   "source": [
    "req = urllib.urlopen('https://gifzada-imagezada.s3.sa-east-1.amazonaws.com/mama.png')\n",
    "arr = np.asarray(bytearray(req.read()), dtype=np.uint8)\n",
    "img = cv2.imdecode(arr, -1)"
   ]
  },
  {
   "cell_type": "code",
   "execution_count": null,
   "metadata": {},
   "outputs": [],
   "source": [
    "cv2.imshow(\"Image\",img)"
   ]
  },
  {
   "cell_type": "code",
   "execution_count": null,
   "metadata": {},
   "outputs": [],
   "source": [
    "\n",
    "kernel = cv2.getStructuringElement(cv2.MORPH_RECT,(5, 5))\n",
    "\n",
    "eroded = cv2.erode(img,kernel)\n",
    "dilated = cv2.dilate(img,kernel)\n",
    "\n",
    "cv2.imshow(\"Image\",img);\n",
    "\n",
    "NpKernel = np.uint8(np.ones((5,5)))\n",
    "Nperoded = cv2.erode(img,NpKernel)\n",
    "\n",
    "cv2.waitKey(0)"
   ]
  }
 ],
 "metadata": {
  "interpreter": {
   "hash": "b886f89131c8a4b41a5d576504142b423b6bbceb7e9f5b8ab206d29dfe67ecce"
  },
  "kernelspec": {
   "display_name": "Python 3.8.12 ('labeling')",
   "language": "python",
   "name": "python3"
  },
  "language_info": {
   "name": "python",
   "version": "3.8.12"
  },
  "orig_nbformat": 4
 },
 "nbformat": 4,
 "nbformat_minor": 2
}
