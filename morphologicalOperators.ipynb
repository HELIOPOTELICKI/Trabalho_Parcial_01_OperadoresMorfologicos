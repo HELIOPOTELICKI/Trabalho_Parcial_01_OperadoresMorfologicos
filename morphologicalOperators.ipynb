{
 "cells": [
  {
   "cell_type": "code",
   "execution_count": 1,
   "metadata": {},
   "outputs": [],
   "source": [
    "import numpy as np\n",
    "import cv2"
   ]
  },
  {
   "cell_type": "code",
   "execution_count": 2,
   "metadata": {},
   "outputs": [],
   "source": [
    "image = cv2.imread('image/mama6.png')\n",
    "kernel = np.ones((3,3),np.uint8)"
   ]
  },
  {
   "cell_type": "code",
   "execution_count": 3,
   "metadata": {},
   "outputs": [],
   "source": [
    "top_hat_opening = cv2.morphologyEx(image, cv2.MORPH_TOPHAT, kernel)\n",
    "top_hat_closing = cv2.morphologyEx(image, cv2.MORPH_BLACKHAT, kernel)\n",
    "contrast = (image + top_hat_opening) - top_hat_closing"
   ]
  },
  {
   "cell_type": "code",
   "execution_count": 4,
   "metadata": {},
   "outputs": [
    {
     "data": {
      "text/plain": [
       "-1"
      ]
     },
     "execution_count": 4,
     "metadata": {},
     "output_type": "execute_result"
    }
   ],
   "source": [
    "list_to_display= [image, top_hat_opening, top_hat_closing, contrast]\n",
    "for i in range(len(list_to_display)):\n",
    "    list_to_display[i] = cv2.resize(list_to_display[i], (400, 600))\n",
    "\n",
    "montage = np.hstack(list_to_display) \n",
    "\n",
    "cv2.imshow(\"Original / Top-Hat Abertura / Top-Hat Fechamento / Contraste\", montage)\n",
    "cv2.waitKey(0)"
   ]
  }
 ],
 "metadata": {
  "interpreter": {
   "hash": "b886f89131c8a4b41a5d576504142b423b6bbceb7e9f5b8ab206d29dfe67ecce"
  },
  "kernelspec": {
   "display_name": "Python 3.8.12 ('labeling')",
   "language": "python",
   "name": "python3"
  },
  "language_info": {
   "codemirror_mode": {
    "name": "ipython",
    "version": 3
   },
   "file_extension": ".py",
   "mimetype": "text/x-python",
   "name": "python",
   "nbconvert_exporter": "python",
   "pygments_lexer": "ipython3",
   "version": "3.8.12"
  },
  "orig_nbformat": 4
 },
 "nbformat": 4,
 "nbformat_minor": 2
}
